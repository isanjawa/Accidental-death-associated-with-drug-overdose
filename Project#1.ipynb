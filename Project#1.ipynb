{
 "cells": [
  {
   "cell_type": "markdown",
   "metadata": {},
   "source": [
    "## Data 601:  Project #1"
   ]
  },
  {
   "cell_type": "markdown",
   "metadata": {},
   "source": [
    " ## Project Proposal"
   ]
  },
  {
   "cell_type": "markdown",
   "metadata": {},
   "source": [
    "Describe how the data source was discovered:\n",
    "For this project, I asked the professor to help find some data sources.\n",
    "From those data sources, I chose to work on this one, as it’s the one close to my future goal, which is to be working for health care.\n",
    "Link: https://catalog.data.gov/dataset/accidental-drug-related-deaths-january-2012-sept-2015\n",
    "\n",
    "Data is free to download?  Yes\n",
    "\n",
    "Data is legal to access?   Yes\n",
    "\n",
    "Although the data is from government sources (State of Connecticut, data.ct.gov), It’s a Non-Federal dataset.\n",
    "Public: This dataset is intended for public access and use.\n",
    "\n",
    "Documented Exploratory Data Analysis is not available for the data: \n",
    "I didn’t find any data analysis of this data set. I have to say I didn’t really know how to check for it. I just googled it and open multiple links to see if they were about Analyzing this data.\n",
    " \n",
    "Project proposal include size of data (rows, columns, megabytes):\n",
    "Rows: 5,105\n",
    "Columns: 41\n",
    "1,765 KB\n",
    "\n",
    "Project proposal relevant to Data 601 objectives:\n",
    "Yes, the project proposal is relevant for Data 601. With this data set, I will be doing characterization, tracking for example, with types of drugs are the most found in the people blood after their death, and that could help in larger dynamic to prevent the use of those drugs.  I will be able to transform data into useful information.  And visualization by producing graphs to show the trend of each drug.\n",
    "\n",
    "Does student understand the stories in the data?\n",
    "The data is about a listing of each accidental death associated with drug overdose in Connecticut from 2012 to 2018. A \"Y\" value under the different substance columns indicates which drug was detected.\n",
    "\n",
    "Data size: 1,765 KB"
   ]
  },
  {
   "cell_type": "markdown",
   "metadata": {},
   "source": [
    "### Primary Observation about this data:\n",
    "The data is about each accidental death associated with drug overdose in Connecticut from 2012 to 2018. \n",
    "The \"Y\" value under the different columns indicates that particular substance was detected.\n",
    "\n",
    "From the visualization of data, the main drugs find in the blood of victims are Fentanyl, Heroin, Any opioid,\n",
    "followed by cocaine and Ethanol. Age doesn't seem to be a limitation, victims' ages are between 14 and 90 years old. \n",
    "\n",
    "Gender is instead very significant as the victims are mostly men."
   ]
  },
  {
   "cell_type": "code",
   "execution_count": 1,
   "metadata": {},
   "outputs": [
    {
     "name": "stdout",
     "output_type": "stream",
     "text": [
      "pandas 0.24.2\n"
     ]
    }
   ],
   "source": [
    "import pandas\n",
    "print('pandas',pandas.__version__)\n",
    "import numpy as np\n",
    "import pandas as pd\n",
    "import csv\n",
    "import time\n",
    "import re\n",
    "import math\n",
    "import matplotlib.pyplot as plt\n",
    "import seaborn as sns"
   ]
  },
  {
   "cell_type": "markdown",
   "metadata": {},
   "source": [
    "#https://catalog.data.gov/dataset/accidental-drug-related-deaths-january-2012-sept-2015"
   ]
  },
  {
   "cell_type": "code",
   "execution_count": 2,
   "metadata": {},
   "outputs": [
    {
     "name": "stdout",
     "output_type": "stream",
     "text": [
      "Elapsed time: 1.22 seconds\n"
     ]
    },
    {
     "data": {
      "text/plain": [
       "(5105, 41)"
      ]
     },
     "execution_count": 2,
     "metadata": {},
     "output_type": "execute_result"
    }
   ],
   "source": [
    "# To see how long it takes to read the file.\n",
    "\n",
    "start_time = time.time()\n",
    "\n",
    "df = pandas.read_csv('https://data.ct.gov/api/views/rybz-nyjw/rows.csv?accessType=DOWNLOAD') # read the file\n",
    "print('Elapsed time:', round(time.time() - start_time, 2), 'seconds')\n",
    "\n",
    "df.shape"
   ]
  },
  {
   "cell_type": "code",
   "execution_count": 3,
   "metadata": {},
   "outputs": [
    {
     "data": {
      "text/html": [
       "<div>\n",
       "<style scoped>\n",
       "    .dataframe tbody tr th:only-of-type {\n",
       "        vertical-align: middle;\n",
       "    }\n",
       "\n",
       "    .dataframe tbody tr th {\n",
       "        vertical-align: top;\n",
       "    }\n",
       "\n",
       "    .dataframe thead th {\n",
       "        text-align: right;\n",
       "    }\n",
       "</style>\n",
       "<table border=\"1\" class=\"dataframe\">\n",
       "  <thead>\n",
       "    <tr style=\"text-align: right;\">\n",
       "      <th></th>\n",
       "      <th>ID</th>\n",
       "      <th>Date</th>\n",
       "      <th>DateType</th>\n",
       "      <th>Age</th>\n",
       "      <th>Sex</th>\n",
       "      <th>Race</th>\n",
       "      <th>ResidenceCity</th>\n",
       "      <th>ResidenceCounty</th>\n",
       "      <th>ResidenceState</th>\n",
       "      <th>DeathCity</th>\n",
       "      <th>...</th>\n",
       "      <th>Tramad</th>\n",
       "      <th>Morphine_NotHeroin</th>\n",
       "      <th>Hydromorphone</th>\n",
       "      <th>Other</th>\n",
       "      <th>OpiateNOS</th>\n",
       "      <th>AnyOpioid</th>\n",
       "      <th>MannerofDeath</th>\n",
       "      <th>DeathCityGeo</th>\n",
       "      <th>ResidenceCityGeo</th>\n",
       "      <th>InjuryCityGeo</th>\n",
       "    </tr>\n",
       "  </thead>\n",
       "  <tbody>\n",
       "    <tr>\n",
       "      <th>3036</th>\n",
       "      <td>17-0694</td>\n",
       "      <td>08/20/2017 12:00:00 AM</td>\n",
       "      <td>DateReported</td>\n",
       "      <td>51.0</td>\n",
       "      <td>Male</td>\n",
       "      <td>Hispanic, White</td>\n",
       "      <td>HARTFORD</td>\n",
       "      <td>HARTFORD</td>\n",
       "      <td>CT</td>\n",
       "      <td>HARTFORD</td>\n",
       "      <td>...</td>\n",
       "      <td>NaN</td>\n",
       "      <td>NaN</td>\n",
       "      <td>NaN</td>\n",
       "      <td>NaN</td>\n",
       "      <td>NaN</td>\n",
       "      <td>NaN</td>\n",
       "      <td>Accident</td>\n",
       "      <td>Hartford, CT\\n(41.765775, -72.673356)</td>\n",
       "      <td>HARTFORD, CT\\n(41.765775, -72.673356)</td>\n",
       "      <td>CT\\n(41.575155, -72.738288)</td>\n",
       "    </tr>\n",
       "    <tr>\n",
       "      <th>377</th>\n",
       "      <td>17-0312</td>\n",
       "      <td>04/17/2017 12:00:00 AM</td>\n",
       "      <td>DateReported</td>\n",
       "      <td>60.0</td>\n",
       "      <td>Female</td>\n",
       "      <td>White</td>\n",
       "      <td>NEW LONDON</td>\n",
       "      <td>NEW LONDON</td>\n",
       "      <td>CT</td>\n",
       "      <td>NEW LONDON</td>\n",
       "      <td>...</td>\n",
       "      <td>NaN</td>\n",
       "      <td>NaN</td>\n",
       "      <td>NaN</td>\n",
       "      <td>NaN</td>\n",
       "      <td>NaN</td>\n",
       "      <td>NaN</td>\n",
       "      <td>Accident</td>\n",
       "      <td>New London, CT\\n(41.355167, -72.099561)</td>\n",
       "      <td>NEW LONDON, CT\\n(41.355167, -72.099561)</td>\n",
       "      <td>NEW LONDON, CT\\n(41.355167, -72.099561)</td>\n",
       "    </tr>\n",
       "    <tr>\n",
       "      <th>4321</th>\n",
       "      <td>12-0066</td>\n",
       "      <td>03/10/2012 12:00:00 AM</td>\n",
       "      <td>DateofDeath</td>\n",
       "      <td>50.0</td>\n",
       "      <td>Male</td>\n",
       "      <td>White</td>\n",
       "      <td>PLAINVILLE</td>\n",
       "      <td>HARTFORD</td>\n",
       "      <td>NaN</td>\n",
       "      <td>PLAINVILLE</td>\n",
       "      <td>...</td>\n",
       "      <td>NaN</td>\n",
       "      <td>NaN</td>\n",
       "      <td>NaN</td>\n",
       "      <td>NaN</td>\n",
       "      <td>NaN</td>\n",
       "      <td>NaN</td>\n",
       "      <td>Accident</td>\n",
       "      <td>PLAINVILLE, CT\\n(41.674474, -72.85835)</td>\n",
       "      <td>PLAINVILLE, CT\\n(41.674474, -72.85835)</td>\n",
       "      <td>CT\\n(41.575155, -72.738288)</td>\n",
       "    </tr>\n",
       "    <tr>\n",
       "      <th>2669</th>\n",
       "      <td>18-0671</td>\n",
       "      <td>08/27/2018 12:00:00 AM</td>\n",
       "      <td>DateofDeath</td>\n",
       "      <td>28.0</td>\n",
       "      <td>Male</td>\n",
       "      <td>White</td>\n",
       "      <td>NORWICH</td>\n",
       "      <td>NEW LONDON</td>\n",
       "      <td>CT</td>\n",
       "      <td>NORWICH</td>\n",
       "      <td>...</td>\n",
       "      <td>NaN</td>\n",
       "      <td>NaN</td>\n",
       "      <td>NaN</td>\n",
       "      <td>NaN</td>\n",
       "      <td>NaN</td>\n",
       "      <td>Y</td>\n",
       "      <td>Accident</td>\n",
       "      <td>NORWICH, CT\\n(41.524304, -72.075821)</td>\n",
       "      <td>NORWICH, CT\\n(41.524304, -72.075821)</td>\n",
       "      <td>NORWICH, CT\\n(41.524304, -72.075821)</td>\n",
       "    </tr>\n",
       "    <tr>\n",
       "      <th>3331</th>\n",
       "      <td>17-1009</td>\n",
       "      <td>12/25/2017 12:00:00 AM</td>\n",
       "      <td>DateReported</td>\n",
       "      <td>43.0</td>\n",
       "      <td>Male</td>\n",
       "      <td>White</td>\n",
       "      <td>BRIDGEPORT</td>\n",
       "      <td>FAIRFIELD</td>\n",
       "      <td>CT</td>\n",
       "      <td>BRIDGEPORT</td>\n",
       "      <td>...</td>\n",
       "      <td>NaN</td>\n",
       "      <td>NaN</td>\n",
       "      <td>NaN</td>\n",
       "      <td>NaN</td>\n",
       "      <td>NaN</td>\n",
       "      <td>NaN</td>\n",
       "      <td>Accident</td>\n",
       "      <td>Bridgeport, CT\\n(41.179195, -73.189476)</td>\n",
       "      <td>BRIDGEPORT, CT\\n(41.179195, -73.189476)</td>\n",
       "      <td>BRIDGEPORT, CT\\n(41.179195, -73.189476)</td>\n",
       "    </tr>\n",
       "  </tbody>\n",
       "</table>\n",
       "<p>5 rows × 41 columns</p>\n",
       "</div>"
      ],
      "text/plain": [
       "           ID                    Date      DateType   Age     Sex  \\\n",
       "3036  17-0694  08/20/2017 12:00:00 AM  DateReported  51.0    Male   \n",
       "377   17-0312  04/17/2017 12:00:00 AM  DateReported  60.0  Female   \n",
       "4321  12-0066  03/10/2012 12:00:00 AM   DateofDeath  50.0    Male   \n",
       "2669  18-0671  08/27/2018 12:00:00 AM   DateofDeath  28.0    Male   \n",
       "3331  17-1009  12/25/2017 12:00:00 AM  DateReported  43.0    Male   \n",
       "\n",
       "                 Race ResidenceCity ResidenceCounty ResidenceState  \\\n",
       "3036  Hispanic, White      HARTFORD        HARTFORD             CT   \n",
       "377             White    NEW LONDON      NEW LONDON             CT   \n",
       "4321            White    PLAINVILLE        HARTFORD            NaN   \n",
       "2669            White       NORWICH      NEW LONDON             CT   \n",
       "3331            White    BRIDGEPORT       FAIRFIELD             CT   \n",
       "\n",
       "       DeathCity  ... Tramad Morphine_NotHeroin Hydromorphone Other OpiateNOS  \\\n",
       "3036    HARTFORD  ...    NaN                NaN           NaN   NaN       NaN   \n",
       "377   NEW LONDON  ...    NaN                NaN           NaN   NaN       NaN   \n",
       "4321  PLAINVILLE  ...    NaN                NaN           NaN   NaN       NaN   \n",
       "2669     NORWICH  ...    NaN                NaN           NaN   NaN       NaN   \n",
       "3331  BRIDGEPORT  ...    NaN                NaN           NaN   NaN       NaN   \n",
       "\n",
       "     AnyOpioid MannerofDeath                             DeathCityGeo  \\\n",
       "3036       NaN      Accident    Hartford, CT\\n(41.765775, -72.673356)   \n",
       "377        NaN      Accident  New London, CT\\n(41.355167, -72.099561)   \n",
       "4321       NaN      Accident   PLAINVILLE, CT\\n(41.674474, -72.85835)   \n",
       "2669         Y      Accident     NORWICH, CT\\n(41.524304, -72.075821)   \n",
       "3331       NaN      Accident  Bridgeport, CT\\n(41.179195, -73.189476)   \n",
       "\n",
       "                             ResidenceCityGeo  \\\n",
       "3036    HARTFORD, CT\\n(41.765775, -72.673356)   \n",
       "377   NEW LONDON, CT\\n(41.355167, -72.099561)   \n",
       "4321   PLAINVILLE, CT\\n(41.674474, -72.85835)   \n",
       "2669     NORWICH, CT\\n(41.524304, -72.075821)   \n",
       "3331  BRIDGEPORT, CT\\n(41.179195, -73.189476)   \n",
       "\n",
       "                                InjuryCityGeo  \n",
       "3036              CT\\n(41.575155, -72.738288)  \n",
       "377   NEW LONDON, CT\\n(41.355167, -72.099561)  \n",
       "4321              CT\\n(41.575155, -72.738288)  \n",
       "2669     NORWICH, CT\\n(41.524304, -72.075821)  \n",
       "3331  BRIDGEPORT, CT\\n(41.179195, -73.189476)  \n",
       "\n",
       "[5 rows x 41 columns]"
      ]
     },
     "execution_count": 3,
     "metadata": {},
     "output_type": "execute_result"
    }
   ],
   "source": [
    "df.sample(5)"
   ]
  },
  {
   "cell_type": "code",
   "execution_count": 4,
   "metadata": {},
   "outputs": [
    {
     "data": {
      "text/html": [
       "<div>\n",
       "<style scoped>\n",
       "    .dataframe tbody tr th:only-of-type {\n",
       "        vertical-align: middle;\n",
       "    }\n",
       "\n",
       "    .dataframe tbody tr th {\n",
       "        vertical-align: top;\n",
       "    }\n",
       "\n",
       "    .dataframe thead th {\n",
       "        text-align: right;\n",
       "    }\n",
       "</style>\n",
       "<table border=\"1\" class=\"dataframe\">\n",
       "  <thead>\n",
       "    <tr style=\"text-align: right;\">\n",
       "      <th></th>\n",
       "      <th>ID</th>\n",
       "      <th>Date</th>\n",
       "      <th>DateType</th>\n",
       "      <th>Age</th>\n",
       "      <th>Sex</th>\n",
       "      <th>Race</th>\n",
       "      <th>ResidenceCity</th>\n",
       "      <th>ResidenceCounty</th>\n",
       "      <th>ResidenceState</th>\n",
       "      <th>DeathCity</th>\n",
       "      <th>...</th>\n",
       "      <th>Tramad</th>\n",
       "      <th>Morphine_NotHeroin</th>\n",
       "      <th>Hydromorphone</th>\n",
       "      <th>Other</th>\n",
       "      <th>OpiateNOS</th>\n",
       "      <th>AnyOpioid</th>\n",
       "      <th>MannerofDeath</th>\n",
       "      <th>DeathCityGeo</th>\n",
       "      <th>ResidenceCityGeo</th>\n",
       "      <th>InjuryCityGeo</th>\n",
       "    </tr>\n",
       "  </thead>\n",
       "  <tbody>\n",
       "    <tr>\n",
       "      <th>5100</th>\n",
       "      <td>15-0466</td>\n",
       "      <td>09/08/2015 12:00:00 AM</td>\n",
       "      <td>DateReported</td>\n",
       "      <td>43.0</td>\n",
       "      <td>Male</td>\n",
       "      <td>White</td>\n",
       "      <td>CHESHIRE</td>\n",
       "      <td>NEW HAVEN</td>\n",
       "      <td>CT</td>\n",
       "      <td>CHESHIRE</td>\n",
       "      <td>...</td>\n",
       "      <td>NaN</td>\n",
       "      <td>NaN</td>\n",
       "      <td>NaN</td>\n",
       "      <td>NaN</td>\n",
       "      <td>NaN</td>\n",
       "      <td>NaN</td>\n",
       "      <td>Accident</td>\n",
       "      <td>CHESHIRE, CT\\n(41.498834, -72.901448)</td>\n",
       "      <td>CHESHIRE, CT\\n(41.498834, -72.901448)</td>\n",
       "      <td>CT\\n(41.575155, -72.738288)</td>\n",
       "    </tr>\n",
       "    <tr>\n",
       "      <th>5101</th>\n",
       "      <td>17-0618</td>\n",
       "      <td>07/22/2017 12:00:00 AM</td>\n",
       "      <td>DateReported</td>\n",
       "      <td>21.0</td>\n",
       "      <td>Male</td>\n",
       "      <td>White</td>\n",
       "      <td>MADISON</td>\n",
       "      <td>NEW HAVEN</td>\n",
       "      <td>CT</td>\n",
       "      <td>NEW HAVEN</td>\n",
       "      <td>...</td>\n",
       "      <td>NaN</td>\n",
       "      <td>NaN</td>\n",
       "      <td>NaN</td>\n",
       "      <td>NaN</td>\n",
       "      <td>NaN</td>\n",
       "      <td>NaN</td>\n",
       "      <td>Accident</td>\n",
       "      <td>New Haven, CT\\n(41.308252, -72.924161)</td>\n",
       "      <td>MADISON, CT\\n(41.271447, -72.60086)</td>\n",
       "      <td>CT\\n(41.575155, -72.738288)</td>\n",
       "    </tr>\n",
       "    <tr>\n",
       "      <th>5102</th>\n",
       "      <td>18-0646</td>\n",
       "      <td>08/14/2018 12:00:00 AM</td>\n",
       "      <td>DateofDeath</td>\n",
       "      <td>30.0</td>\n",
       "      <td>Male</td>\n",
       "      <td>White</td>\n",
       "      <td>LAWRENCEVILLE</td>\n",
       "      <td>TIOGA</td>\n",
       "      <td>PA</td>\n",
       "      <td>DANBURY</td>\n",
       "      <td>...</td>\n",
       "      <td>Y</td>\n",
       "      <td>NaN</td>\n",
       "      <td>NaN</td>\n",
       "      <td>NaN</td>\n",
       "      <td>NaN</td>\n",
       "      <td>Y</td>\n",
       "      <td>Accident</td>\n",
       "      <td>DANBURY, CT\\n(41.393666, -73.451539)</td>\n",
       "      <td>NaN</td>\n",
       "      <td>DANBURY, CT\\n(41.393666, -73.451539)</td>\n",
       "    </tr>\n",
       "    <tr>\n",
       "      <th>5103</th>\n",
       "      <td>14-0124</td>\n",
       "      <td>03/16/2014 12:00:00 AM</td>\n",
       "      <td>DateofDeath</td>\n",
       "      <td>33.0</td>\n",
       "      <td>Male</td>\n",
       "      <td>White</td>\n",
       "      <td>HARTFORD</td>\n",
       "      <td>NaN</td>\n",
       "      <td>NaN</td>\n",
       "      <td>WINDSOR</td>\n",
       "      <td>...</td>\n",
       "      <td>NaN</td>\n",
       "      <td>NaN</td>\n",
       "      <td>NaN</td>\n",
       "      <td>NaN</td>\n",
       "      <td>NaN</td>\n",
       "      <td>NaN</td>\n",
       "      <td>Accident</td>\n",
       "      <td>WINDSOR, CT\\n(41.852781, -72.64379)</td>\n",
       "      <td>HARTFORD, CT\\n(41.765775, -72.673356)</td>\n",
       "      <td>CT\\n(41.575155, -72.738288)</td>\n",
       "    </tr>\n",
       "    <tr>\n",
       "      <th>5104</th>\n",
       "      <td>16-0637</td>\n",
       "      <td>09/15/2016 12:00:00 AM</td>\n",
       "      <td>DateofDeath</td>\n",
       "      <td>33.0</td>\n",
       "      <td>Male</td>\n",
       "      <td>White</td>\n",
       "      <td>THOMASTON</td>\n",
       "      <td>LITCHFIELD</td>\n",
       "      <td>CT</td>\n",
       "      <td>WATERBURY</td>\n",
       "      <td>...</td>\n",
       "      <td>NaN</td>\n",
       "      <td>NaN</td>\n",
       "      <td>NaN</td>\n",
       "      <td>NaN</td>\n",
       "      <td>NaN</td>\n",
       "      <td>Y</td>\n",
       "      <td>Accident</td>\n",
       "      <td>WATERBURY, CT\\n(41.554261, -73.043069)</td>\n",
       "      <td>THOMASTON, CT\\n(41.674124, -73.073189)</td>\n",
       "      <td>WATERBURY, CT, CT\\n(41.554261, -73.043069)</td>\n",
       "    </tr>\n",
       "  </tbody>\n",
       "</table>\n",
       "<p>5 rows × 41 columns</p>\n",
       "</div>"
      ],
      "text/plain": [
       "           ID                    Date      DateType   Age   Sex   Race  \\\n",
       "5100  15-0466  09/08/2015 12:00:00 AM  DateReported  43.0  Male  White   \n",
       "5101  17-0618  07/22/2017 12:00:00 AM  DateReported  21.0  Male  White   \n",
       "5102  18-0646  08/14/2018 12:00:00 AM   DateofDeath  30.0  Male  White   \n",
       "5103  14-0124  03/16/2014 12:00:00 AM   DateofDeath  33.0  Male  White   \n",
       "5104  16-0637  09/15/2016 12:00:00 AM   DateofDeath  33.0  Male  White   \n",
       "\n",
       "      ResidenceCity ResidenceCounty ResidenceState  DeathCity  ... Tramad  \\\n",
       "5100       CHESHIRE       NEW HAVEN             CT   CHESHIRE  ...    NaN   \n",
       "5101        MADISON       NEW HAVEN             CT  NEW HAVEN  ...    NaN   \n",
       "5102  LAWRENCEVILLE           TIOGA             PA    DANBURY  ...      Y   \n",
       "5103       HARTFORD             NaN            NaN    WINDSOR  ...    NaN   \n",
       "5104      THOMASTON      LITCHFIELD             CT  WATERBURY  ...    NaN   \n",
       "\n",
       "     Morphine_NotHeroin Hydromorphone Other OpiateNOS AnyOpioid MannerofDeath  \\\n",
       "5100                NaN           NaN   NaN       NaN       NaN      Accident   \n",
       "5101                NaN           NaN   NaN       NaN       NaN      Accident   \n",
       "5102                NaN           NaN   NaN       NaN         Y      Accident   \n",
       "5103                NaN           NaN   NaN       NaN       NaN      Accident   \n",
       "5104                NaN           NaN   NaN       NaN         Y      Accident   \n",
       "\n",
       "                                DeathCityGeo  \\\n",
       "5100   CHESHIRE, CT\\n(41.498834, -72.901448)   \n",
       "5101  New Haven, CT\\n(41.308252, -72.924161)   \n",
       "5102    DANBURY, CT\\n(41.393666, -73.451539)   \n",
       "5103     WINDSOR, CT\\n(41.852781, -72.64379)   \n",
       "5104  WATERBURY, CT\\n(41.554261, -73.043069)   \n",
       "\n",
       "                            ResidenceCityGeo  \\\n",
       "5100   CHESHIRE, CT\\n(41.498834, -72.901448)   \n",
       "5101     MADISON, CT\\n(41.271447, -72.60086)   \n",
       "5102                                     NaN   \n",
       "5103   HARTFORD, CT\\n(41.765775, -72.673356)   \n",
       "5104  THOMASTON, CT\\n(41.674124, -73.073189)   \n",
       "\n",
       "                                   InjuryCityGeo  \n",
       "5100                 CT\\n(41.575155, -72.738288)  \n",
       "5101                 CT\\n(41.575155, -72.738288)  \n",
       "5102        DANBURY, CT\\n(41.393666, -73.451539)  \n",
       "5103                 CT\\n(41.575155, -72.738288)  \n",
       "5104  WATERBURY, CT, CT\\n(41.554261, -73.043069)  \n",
       "\n",
       "[5 rows x 41 columns]"
      ]
     },
     "execution_count": 4,
     "metadata": {},
     "output_type": "execute_result"
    }
   ],
   "source": [
    "df.tail()"
   ]
  },
  {
   "cell_type": "code",
   "execution_count": 5,
   "metadata": {},
   "outputs": [],
   "source": [
    "# Different ID present in the dataframe.\n",
    "df ['ID']"
   ]
  },
  {
   "cell_type": "code",
   "execution_count": 6,
   "metadata": {},
   "outputs": [],
   "source": [
    "#df.info()"
   ]
  },
  {
   "cell_type": "code",
   "execution_count": 7,
   "metadata": {},
   "outputs": [],
   "source": [
    "#df.dtypes"
   ]
  },
  {
   "cell_type": "code",
   "execution_count": 8,
   "metadata": {},
   "outputs": [
    {
     "data": {
      "text/html": [
       "<div>\n",
       "<style scoped>\n",
       "    .dataframe tbody tr th:only-of-type {\n",
       "        vertical-align: middle;\n",
       "    }\n",
       "\n",
       "    .dataframe tbody tr th {\n",
       "        vertical-align: top;\n",
       "    }\n",
       "\n",
       "    .dataframe thead th {\n",
       "        text-align: right;\n",
       "    }\n",
       "</style>\n",
       "<table border=\"1\" class=\"dataframe\">\n",
       "  <thead>\n",
       "    <tr style=\"text-align: right;\">\n",
       "      <th></th>\n",
       "      <th>Age</th>\n",
       "    </tr>\n",
       "  </thead>\n",
       "  <tbody>\n",
       "    <tr>\n",
       "      <th>count</th>\n",
       "      <td>5102.000000</td>\n",
       "    </tr>\n",
       "    <tr>\n",
       "      <th>mean</th>\n",
       "      <td>41.964916</td>\n",
       "    </tr>\n",
       "    <tr>\n",
       "      <th>std</th>\n",
       "      <td>12.336639</td>\n",
       "    </tr>\n",
       "    <tr>\n",
       "      <th>min</th>\n",
       "      <td>14.000000</td>\n",
       "    </tr>\n",
       "    <tr>\n",
       "      <th>25%</th>\n",
       "      <td>32.000000</td>\n",
       "    </tr>\n",
       "    <tr>\n",
       "      <th>50%</th>\n",
       "      <td>42.000000</td>\n",
       "    </tr>\n",
       "    <tr>\n",
       "      <th>75%</th>\n",
       "      <td>52.000000</td>\n",
       "    </tr>\n",
       "    <tr>\n",
       "      <th>max</th>\n",
       "      <td>87.000000</td>\n",
       "    </tr>\n",
       "  </tbody>\n",
       "</table>\n",
       "</div>"
      ],
      "text/plain": [
       "               Age\n",
       "count  5102.000000\n",
       "mean     41.964916\n",
       "std      12.336639\n",
       "min      14.000000\n",
       "25%      32.000000\n",
       "50%      42.000000\n",
       "75%      52.000000\n",
       "max      87.000000"
      ]
     },
     "execution_count": 8,
     "metadata": {},
     "output_type": "execute_result"
    }
   ],
   "source": [
    "# I use describe to view some basic statistical details from numerical columns.\n",
    "df.describe()"
   ]
  },
  {
   "cell_type": "code",
   "execution_count": 9,
   "metadata": {},
   "outputs": [
    {
     "data": {
      "text/plain": [
       "Male       3773\n",
       "Female     1325\n",
       "Unknown       1\n",
       "Name: Sex, dtype: int64"
      ]
     },
     "execution_count": 9,
     "metadata": {},
     "output_type": "execute_result"
    }
   ],
   "source": [
    "#Count the number of male and female.\n",
    "df['Sex'].value_counts()"
   ]
  },
  {
   "cell_type": "markdown",
   "metadata": {},
   "source": [
    "### These columns:\n",
    "-DeathCityGeo\n",
    "-ResidenceCityGeo\n",
    "-InjuryCityGeo,\n",
    "have 3 or 4 entries in each cell: city, state, latitude and longitude.\n",
    "I will separate the data into multiple columns.\n",
    "\n",
    "To solve the problem of different entries, I will write a function that takes a conditional action bases on the list lenght\n",
    "\n",
    "Because the strings in the columns have different types of delimiters , we replaced them with the comma."
   ]
  },
  {
   "cell_type": "markdown",
   "metadata": {},
   "source": [
    "### Create new columns from DeathCityGeo"
   ]
  },
  {
   "cell_type": "code",
   "execution_count": 10,
   "metadata": {},
   "outputs": [],
   "source": [
    "# https://stackoverflow.com/a/53666187/1164295\n",
    "# https://stackoverflow.com/a/4998688/1164295\n",
    "\n",
    "def deathgeo_new_cols(x):\n",
    "    x=x.replace('(','').replace(')','')\n",
    "    entry_as_list = re.split(';|,|\\n',x)\n",
    "    #print(entry_as_list)\n",
    "    if len(entry_as_list)==4:\n",
    "        return pd.Series(entry_as_list)\n",
    "    elif len(entry_as_list)==3:\n",
    "        return pd.Series([np.nan, entry_as_list[0], entry_as_list[1],\n",
    "entry_as_list[2]])\n",
    "    else:\n",
    "        raise Exception('found list of wrong size')\n",
    "\n",
    "df[['DeathCityGeo_city', 'DeathCityGeo_state', 'DeathCityGeo_lat', 'DeathCityGeo_long']] = df['DeathCityGeo'].apply(deathgeo_new_cols)"
   ]
  },
  {
   "cell_type": "code",
   "execution_count": 11,
   "metadata": {},
   "outputs": [],
   "source": [
    "#df.head()"
   ]
  },
  {
   "cell_type": "markdown",
   "metadata": {},
   "source": [
    "### Create new columns from ResidenceCityGeo"
   ]
  },
  {
   "cell_type": "code",
   "execution_count": 12,
   "metadata": {},
   "outputs": [
    {
     "data": {
      "text/plain": [
       "0                CT\\n(41.575155, -72.738288)\n",
       "1        NORWALK, CT\\n(41.11805, -73.412906)\n",
       "2    SANDY HOOK, CT\\n(41.419998, -73.282501)\n",
       "3                                        NaN\n",
       "4                                        NaN\n",
       "Name: ResidenceCityGeo, dtype: object"
      ]
     },
     "execution_count": 12,
     "metadata": {},
     "output_type": "execute_result"
    }
   ],
   "source": [
    "df['ResidenceCityGeo'].head()"
   ]
  },
  {
   "cell_type": "code",
   "execution_count": 13,
   "metadata": {},
   "outputs": [],
   "source": [
    "def residencegeo_new_cols(x):\n",
    "    x=x.replace('(','').replace(')','')\n",
    "    entry_as_list = re.split(';|,|\\n',x)\n",
    "    if len(entry_as_list)==4:\n",
    "        return pd.Series(entry_as_list)\n",
    "    elif len(entry_as_list)==3:\n",
    "        return pd.Series([np.nan, entry_as_list[0], entry_as_list[1],\n",
    "entry_as_list[2]])\n",
    "    else:\n",
    "        raise Exception('found list of wrong size')\n",
    "\n",
    "df[['ResidenceCityGeo_city', 'ResidenceCityGeo_state', 'ResidenceCityGeo_lat', 'ResidenceCityGeo_long']] = df['DeathCityGeo'].apply(residencegeo_new_cols)\n"
   ]
  },
  {
   "cell_type": "markdown",
   "metadata": {},
   "source": [
    "### Create new columns from InjuryCityGeo"
   ]
  },
  {
   "cell_type": "code",
   "execution_count": 14,
   "metadata": {},
   "outputs": [
    {
     "data": {
      "text/plain": [
       "5100                   CT\\n(41.575155, -72.738288)\n",
       "5101                   CT\\n(41.575155, -72.738288)\n",
       "5102          DANBURY, CT\\n(41.393666, -73.451539)\n",
       "5103                   CT\\n(41.575155, -72.738288)\n",
       "5104    WATERBURY, CT, CT\\n(41.554261, -73.043069)\n",
       "Name: InjuryCityGeo, dtype: object"
      ]
     },
     "execution_count": 14,
     "metadata": {},
     "output_type": "execute_result"
    }
   ],
   "source": [
    "df['InjuryCityGeo'].tail()"
   ]
  },
  {
   "cell_type": "code",
   "execution_count": 15,
   "metadata": {},
   "outputs": [],
   "source": [
    "def injurygeo_new_cols(x):\n",
    "    x=x.replace('(','').replace(')','')\n",
    "    entry_as_list = re.split(';|,|\\n',x)\n",
    "    if len(entry_as_list)==4:\n",
    "        return pd.Series(entry_as_list)\n",
    "    elif len(entry_as_list)==3:\n",
    "        return pd.Series([np.nan, entry_as_list[0], entry_as_list[1],\n",
    "entry_as_list[2]])\n",
    "    else:\n",
    "        raise Exception('found list of wrong size')\n",
    "\n",
    "df[['InjuryCityGeo_city', 'InjuryCityGeo_state', 'InjuryCityGeo_lat', 'InjuryCityGeo_long']] = df['DeathCityGeo'].apply(injurygeo_new_cols)\n"
   ]
  },
  {
   "cell_type": "markdown",
   "metadata": {},
   "source": [
    "### Dataframe after adding new columns"
   ]
  },
  {
   "cell_type": "code",
   "execution_count": 16,
   "metadata": {},
   "outputs": [
    {
     "data": {
      "text/html": [
       "<div>\n",
       "<style scoped>\n",
       "    .dataframe tbody tr th:only-of-type {\n",
       "        vertical-align: middle;\n",
       "    }\n",
       "\n",
       "    .dataframe tbody tr th {\n",
       "        vertical-align: top;\n",
       "    }\n",
       "\n",
       "    .dataframe thead th {\n",
       "        text-align: right;\n",
       "    }\n",
       "</style>\n",
       "<table border=\"1\" class=\"dataframe\">\n",
       "  <thead>\n",
       "    <tr style=\"text-align: right;\">\n",
       "      <th></th>\n",
       "      <th>ID</th>\n",
       "      <th>Date</th>\n",
       "      <th>DateType</th>\n",
       "      <th>Age</th>\n",
       "      <th>Sex</th>\n",
       "      <th>Race</th>\n",
       "      <th>ResidenceCity</th>\n",
       "      <th>ResidenceCounty</th>\n",
       "      <th>ResidenceState</th>\n",
       "      <th>DeathCity</th>\n",
       "      <th>...</th>\n",
       "      <th>DeathCityGeo_lat</th>\n",
       "      <th>DeathCityGeo_long</th>\n",
       "      <th>ResidenceCityGeo_city</th>\n",
       "      <th>ResidenceCityGeo_state</th>\n",
       "      <th>ResidenceCityGeo_lat</th>\n",
       "      <th>ResidenceCityGeo_long</th>\n",
       "      <th>InjuryCityGeo_city</th>\n",
       "      <th>InjuryCityGeo_state</th>\n",
       "      <th>InjuryCityGeo_lat</th>\n",
       "      <th>InjuryCityGeo_long</th>\n",
       "    </tr>\n",
       "  </thead>\n",
       "  <tbody>\n",
       "    <tr>\n",
       "      <th>0</th>\n",
       "      <td>14-0273</td>\n",
       "      <td>06/28/2014 12:00:00 AM</td>\n",
       "      <td>DateReported</td>\n",
       "      <td>NaN</td>\n",
       "      <td>NaN</td>\n",
       "      <td>NaN</td>\n",
       "      <td>NaN</td>\n",
       "      <td>NaN</td>\n",
       "      <td>NaN</td>\n",
       "      <td>NaN</td>\n",
       "      <td>...</td>\n",
       "      <td>41.575155</td>\n",
       "      <td>-72.738288</td>\n",
       "      <td>NaN</td>\n",
       "      <td>CT</td>\n",
       "      <td>41.575155</td>\n",
       "      <td>-72.738288</td>\n",
       "      <td>NaN</td>\n",
       "      <td>CT</td>\n",
       "      <td>41.575155</td>\n",
       "      <td>-72.738288</td>\n",
       "    </tr>\n",
       "    <tr>\n",
       "      <th>1</th>\n",
       "      <td>13-0102</td>\n",
       "      <td>03/21/2013 12:00:00 AM</td>\n",
       "      <td>DateofDeath</td>\n",
       "      <td>48.0</td>\n",
       "      <td>Male</td>\n",
       "      <td>Black</td>\n",
       "      <td>NORWALK</td>\n",
       "      <td>NaN</td>\n",
       "      <td>NaN</td>\n",
       "      <td>NORWALK</td>\n",
       "      <td>...</td>\n",
       "      <td>41.11805</td>\n",
       "      <td>-73.412906</td>\n",
       "      <td>Norwalk</td>\n",
       "      <td>CT</td>\n",
       "      <td>41.11805</td>\n",
       "      <td>-73.412906</td>\n",
       "      <td>Norwalk</td>\n",
       "      <td>CT</td>\n",
       "      <td>41.11805</td>\n",
       "      <td>-73.412906</td>\n",
       "    </tr>\n",
       "    <tr>\n",
       "      <th>2</th>\n",
       "      <td>16-0165</td>\n",
       "      <td>03/13/2016 12:00:00 AM</td>\n",
       "      <td>DateofDeath</td>\n",
       "      <td>30.0</td>\n",
       "      <td>Female</td>\n",
       "      <td>White</td>\n",
       "      <td>SANDY HOOK</td>\n",
       "      <td>FAIRFIELD</td>\n",
       "      <td>CT</td>\n",
       "      <td>DANBURY</td>\n",
       "      <td>...</td>\n",
       "      <td>41.393666</td>\n",
       "      <td>-73.451539</td>\n",
       "      <td>Danbury</td>\n",
       "      <td>CT</td>\n",
       "      <td>41.393666</td>\n",
       "      <td>-73.451539</td>\n",
       "      <td>Danbury</td>\n",
       "      <td>CT</td>\n",
       "      <td>41.393666</td>\n",
       "      <td>-73.451539</td>\n",
       "    </tr>\n",
       "    <tr>\n",
       "      <th>3</th>\n",
       "      <td>16-0208</td>\n",
       "      <td>03/31/2016 12:00:00 AM</td>\n",
       "      <td>DateofDeath</td>\n",
       "      <td>23.0</td>\n",
       "      <td>Male</td>\n",
       "      <td>White</td>\n",
       "      <td>RYE</td>\n",
       "      <td>WESTCHESTER</td>\n",
       "      <td>NY</td>\n",
       "      <td>GREENWICH</td>\n",
       "      <td>...</td>\n",
       "      <td>41.026526</td>\n",
       "      <td>-73.628549</td>\n",
       "      <td>Greenwich</td>\n",
       "      <td>CT</td>\n",
       "      <td>41.026526</td>\n",
       "      <td>-73.628549</td>\n",
       "      <td>Greenwich</td>\n",
       "      <td>CT</td>\n",
       "      <td>41.026526</td>\n",
       "      <td>-73.628549</td>\n",
       "    </tr>\n",
       "    <tr>\n",
       "      <th>4</th>\n",
       "      <td>13-0052</td>\n",
       "      <td>02/13/2013 12:00:00 AM</td>\n",
       "      <td>DateofDeath</td>\n",
       "      <td>22.0</td>\n",
       "      <td>Male</td>\n",
       "      <td>Asian, Other</td>\n",
       "      <td>FLUSHING</td>\n",
       "      <td>QUEENS</td>\n",
       "      <td>NaN</td>\n",
       "      <td>GREENWICH</td>\n",
       "      <td>...</td>\n",
       "      <td>41.026526</td>\n",
       "      <td>-73.628549</td>\n",
       "      <td>Greenwich</td>\n",
       "      <td>CT</td>\n",
       "      <td>41.026526</td>\n",
       "      <td>-73.628549</td>\n",
       "      <td>Greenwich</td>\n",
       "      <td>CT</td>\n",
       "      <td>41.026526</td>\n",
       "      <td>-73.628549</td>\n",
       "    </tr>\n",
       "  </tbody>\n",
       "</table>\n",
       "<p>5 rows × 53 columns</p>\n",
       "</div>"
      ],
      "text/plain": [
       "        ID                    Date      DateType   Age     Sex          Race  \\\n",
       "0  14-0273  06/28/2014 12:00:00 AM  DateReported   NaN     NaN           NaN   \n",
       "1  13-0102  03/21/2013 12:00:00 AM   DateofDeath  48.0    Male         Black   \n",
       "2  16-0165  03/13/2016 12:00:00 AM   DateofDeath  30.0  Female         White   \n",
       "3  16-0208  03/31/2016 12:00:00 AM   DateofDeath  23.0    Male         White   \n",
       "4  13-0052  02/13/2013 12:00:00 AM   DateofDeath  22.0    Male  Asian, Other   \n",
       "\n",
       "  ResidenceCity ResidenceCounty ResidenceState  DeathCity  ...  \\\n",
       "0           NaN             NaN            NaN        NaN  ...   \n",
       "1       NORWALK             NaN            NaN    NORWALK  ...   \n",
       "2    SANDY HOOK       FAIRFIELD             CT    DANBURY  ...   \n",
       "3           RYE     WESTCHESTER             NY  GREENWICH  ...   \n",
       "4      FLUSHING          QUEENS            NaN  GREENWICH  ...   \n",
       "\n",
       "  DeathCityGeo_lat DeathCityGeo_long ResidenceCityGeo_city  \\\n",
       "0        41.575155        -72.738288                   NaN   \n",
       "1         41.11805        -73.412906               Norwalk   \n",
       "2        41.393666        -73.451539               Danbury   \n",
       "3        41.026526        -73.628549             Greenwich   \n",
       "4        41.026526        -73.628549             Greenwich   \n",
       "\n",
       "  ResidenceCityGeo_state ResidenceCityGeo_lat ResidenceCityGeo_long  \\\n",
       "0                     CT            41.575155            -72.738288   \n",
       "1                     CT             41.11805            -73.412906   \n",
       "2                     CT            41.393666            -73.451539   \n",
       "3                     CT            41.026526            -73.628549   \n",
       "4                     CT            41.026526            -73.628549   \n",
       "\n",
       "  InjuryCityGeo_city InjuryCityGeo_state InjuryCityGeo_lat InjuryCityGeo_long  \n",
       "0                NaN                  CT         41.575155         -72.738288  \n",
       "1            Norwalk                  CT          41.11805         -73.412906  \n",
       "2            Danbury                  CT         41.393666         -73.451539  \n",
       "3          Greenwich                  CT         41.026526         -73.628549  \n",
       "4          Greenwich                  CT         41.026526         -73.628549  \n",
       "\n",
       "[5 rows x 53 columns]"
      ]
     },
     "execution_count": 16,
     "metadata": {},
     "output_type": "execute_result"
    }
   ],
   "source": [
    "df.head()"
   ]
  },
  {
   "cell_type": "code",
   "execution_count": 17,
   "metadata": {},
   "outputs": [
    {
     "data": {
      "text/plain": [
       "Index(['ID', 'Date', 'DateType', 'Age', 'Sex', 'Race', 'ResidenceCity',\n",
       "       'ResidenceCounty', 'ResidenceState', 'DeathCity', 'DeathCounty',\n",
       "       'Location', 'LocationifOther', 'DescriptionofInjury', 'InjuryPlace',\n",
       "       'InjuryCity', 'InjuryCounty', 'InjuryState', 'COD', 'OtherSignifican',\n",
       "       'Heroin', 'Cocaine', 'Fentanyl', 'FentanylAnalogue', 'Oxycodone',\n",
       "       'Oxymorphone', 'Ethanol', 'Hydrocodone', 'Benzodiazepine', 'Methadone',\n",
       "       'Amphet', 'Tramad', 'Morphine_NotHeroin', 'Hydromorphone', 'Other',\n",
       "       'OpiateNOS', 'AnyOpioid', 'MannerofDeath', 'DeathCityGeo',\n",
       "       'ResidenceCityGeo', 'InjuryCityGeo', 'DeathCityGeo_city',\n",
       "       'DeathCityGeo_state', 'DeathCityGeo_lat', 'DeathCityGeo_long',\n",
       "       'ResidenceCityGeo_city', 'ResidenceCityGeo_state',\n",
       "       'ResidenceCityGeo_lat', 'ResidenceCityGeo_long', 'InjuryCityGeo_city',\n",
       "       'InjuryCityGeo_state', 'InjuryCityGeo_lat', 'InjuryCityGeo_long'],\n",
       "      dtype='object')"
      ]
     },
     "execution_count": 17,
     "metadata": {},
     "output_type": "execute_result"
    }
   ],
   "source": [
    "df.columns"
   ]
  },
  {
   "cell_type": "code",
   "execution_count": 18,
   "metadata": {},
   "outputs": [
    {
     "data": {
      "text/plain": [
       "(5105, 53)"
      ]
     },
     "execution_count": 18,
     "metadata": {},
     "output_type": "execute_result"
    }
   ],
   "source": [
    "# Find the number of rows and columns in the new dataframe\n",
    "df.shape"
   ]
  },
  {
   "cell_type": "code",
   "execution_count": 19,
   "metadata": {},
   "outputs": [],
   "source": [
    "### As some columns represent just the type of drugs, I will melt them into one unique column, and their values in another column."
   ]
  },
  {
   "cell_type": "code",
   "execution_count": 20,
   "metadata": {},
   "outputs": [],
   "source": [
    "df_long = pd.melt( df, \n",
    "                   id_vars=['ID', 'Date', 'DateType', 'Age', 'Sex', 'Race', 'ResidenceCity',\n",
    "       'ResidenceCounty', 'ResidenceState', 'DeathCity', 'DeathCounty',\n",
    "       'Location', 'LocationifOther', 'DescriptionofInjury', 'InjuryPlace',\n",
    "       'InjuryCity', 'InjuryCounty', 'InjuryState', 'COD', 'OtherSignifican','MannerofDeath', 'DeathCityGeo',\n",
    "       'ResidenceCityGeo', 'InjuryCityGeo', 'DeathCityGeo_city',\n",
    "       'DeathCityGeo_state', 'DeathCityGeo_lat', 'DeathCityGeo_long',\n",
    "       'ResidenceCityGeo_city', 'ResidenceCityGeo_state',\n",
    "       'ResidenceCityGeo_lat', 'ResidenceCityGeo_long', 'InjuryCityGeo_city',\n",
    "       'InjuryCityGeo_state', 'InjuryCityGeo_lat', 'InjuryCityGeo_long'],\n",
    "                   var_name='TypeOfDrugs',\n",
    "                   value_name= 'Detected'\n",
    "                  )"
   ]
  },
  {
   "cell_type": "code",
   "execution_count": 21,
   "metadata": {},
   "outputs": [
    {
     "data": {
      "text/plain": [
       "(86785, 38)"
      ]
     },
     "execution_count": 21,
     "metadata": {},
     "output_type": "execute_result"
    }
   ],
   "source": [
    "# Find the number of rows and columns after \"melt\"\n",
    "df_long.shape"
   ]
  },
  {
   "cell_type": "code",
   "execution_count": 22,
   "metadata": {
    "scrolled": true
   },
   "outputs": [
    {
     "data": {
      "text/html": [
       "<div>\n",
       "<style scoped>\n",
       "    .dataframe tbody tr th:only-of-type {\n",
       "        vertical-align: middle;\n",
       "    }\n",
       "\n",
       "    .dataframe tbody tr th {\n",
       "        vertical-align: top;\n",
       "    }\n",
       "\n",
       "    .dataframe thead th {\n",
       "        text-align: right;\n",
       "    }\n",
       "</style>\n",
       "<table border=\"1\" class=\"dataframe\">\n",
       "  <thead>\n",
       "    <tr style=\"text-align: right;\">\n",
       "      <th></th>\n",
       "      <th>ID</th>\n",
       "      <th>Date</th>\n",
       "      <th>DateType</th>\n",
       "      <th>Age</th>\n",
       "      <th>Sex</th>\n",
       "      <th>Race</th>\n",
       "      <th>ResidenceCity</th>\n",
       "      <th>ResidenceCounty</th>\n",
       "      <th>ResidenceState</th>\n",
       "      <th>DeathCity</th>\n",
       "      <th>...</th>\n",
       "      <th>ResidenceCityGeo_city</th>\n",
       "      <th>ResidenceCityGeo_state</th>\n",
       "      <th>ResidenceCityGeo_lat</th>\n",
       "      <th>ResidenceCityGeo_long</th>\n",
       "      <th>InjuryCityGeo_city</th>\n",
       "      <th>InjuryCityGeo_state</th>\n",
       "      <th>InjuryCityGeo_lat</th>\n",
       "      <th>InjuryCityGeo_long</th>\n",
       "      <th>TypeOfDrugs</th>\n",
       "      <th>Detected</th>\n",
       "    </tr>\n",
       "  </thead>\n",
       "  <tbody>\n",
       "    <tr>\n",
       "      <th>62675</th>\n",
       "      <td>12-0323</td>\n",
       "      <td>12/04/2012 12:00:00 AM</td>\n",
       "      <td>DateofDeath</td>\n",
       "      <td>54.0</td>\n",
       "      <td>Male</td>\n",
       "      <td>White</td>\n",
       "      <td>ENFIELD</td>\n",
       "      <td>HARTFORD</td>\n",
       "      <td>NaN</td>\n",
       "      <td>ENFIELD</td>\n",
       "      <td>...</td>\n",
       "      <td>ENFIELD</td>\n",
       "      <td>CT</td>\n",
       "      <td>41.976501</td>\n",
       "      <td>-72.591985</td>\n",
       "      <td>ENFIELD</td>\n",
       "      <td>CT</td>\n",
       "      <td>41.976501</td>\n",
       "      <td>-72.591985</td>\n",
       "      <td>Morphine_NotHeroin</td>\n",
       "      <td>NaN</td>\n",
       "    </tr>\n",
       "    <tr>\n",
       "      <th>58720</th>\n",
       "      <td>17-0264</td>\n",
       "      <td>03/30/2017 12:00:00 AM</td>\n",
       "      <td>DateReported</td>\n",
       "      <td>29.0</td>\n",
       "      <td>Male</td>\n",
       "      <td>White</td>\n",
       "      <td>ORANGE</td>\n",
       "      <td>NEW HAVEN</td>\n",
       "      <td>CT</td>\n",
       "      <td>ORANGE</td>\n",
       "      <td>...</td>\n",
       "      <td>Orange</td>\n",
       "      <td>CT</td>\n",
       "      <td>41.282731</td>\n",
       "      <td>-73.028426</td>\n",
       "      <td>Orange</td>\n",
       "      <td>CT</td>\n",
       "      <td>41.282731</td>\n",
       "      <td>-73.028426</td>\n",
       "      <td>Tramad</td>\n",
       "      <td>NaN</td>\n",
       "    </tr>\n",
       "    <tr>\n",
       "      <th>71226</th>\n",
       "      <td>18-0319</td>\n",
       "      <td>04/28/2018 12:00:00 AM</td>\n",
       "      <td>DateReported</td>\n",
       "      <td>44.0</td>\n",
       "      <td>Male</td>\n",
       "      <td>White</td>\n",
       "      <td>NEW HAVEN</td>\n",
       "      <td>NEW HAVEN</td>\n",
       "      <td>CT</td>\n",
       "      <td>NEW HAVEN</td>\n",
       "      <td>...</td>\n",
       "      <td>New Haven</td>\n",
       "      <td>CT</td>\n",
       "      <td>41.308252</td>\n",
       "      <td>-72.924161</td>\n",
       "      <td>New Haven</td>\n",
       "      <td>CT</td>\n",
       "      <td>41.308252</td>\n",
       "      <td>-72.924161</td>\n",
       "      <td>Hydromorphone</td>\n",
       "      <td>NaN</td>\n",
       "    </tr>\n",
       "    <tr>\n",
       "      <th>9236</th>\n",
       "      <td>15-0171</td>\n",
       "      <td>04/07/2015 12:00:00 AM</td>\n",
       "      <td>DateReported</td>\n",
       "      <td>66.0</td>\n",
       "      <td>Female</td>\n",
       "      <td>White</td>\n",
       "      <td>DERBY</td>\n",
       "      <td>NEW HAVEN</td>\n",
       "      <td>CT</td>\n",
       "      <td>DERBY</td>\n",
       "      <td>...</td>\n",
       "      <td>Derby</td>\n",
       "      <td>CT</td>\n",
       "      <td>41.322959</td>\n",
       "      <td>-73.089594</td>\n",
       "      <td>Derby</td>\n",
       "      <td>CT</td>\n",
       "      <td>41.322959</td>\n",
       "      <td>-73.089594</td>\n",
       "      <td>Cocaine</td>\n",
       "      <td>NaN</td>\n",
       "    </tr>\n",
       "    <tr>\n",
       "      <th>34704</th>\n",
       "      <td>15-0430</td>\n",
       "      <td>08/19/2015 12:00:00 AM</td>\n",
       "      <td>DateReported</td>\n",
       "      <td>33.0</td>\n",
       "      <td>Male</td>\n",
       "      <td>White</td>\n",
       "      <td>HADDAM</td>\n",
       "      <td>MIDDLESEX</td>\n",
       "      <td>CT</td>\n",
       "      <td>HADDAM</td>\n",
       "      <td>...</td>\n",
       "      <td>HADDAM</td>\n",
       "      <td>CT</td>\n",
       "      <td>41.477264</td>\n",
       "      <td>-72.512292</td>\n",
       "      <td>HADDAM</td>\n",
       "      <td>CT</td>\n",
       "      <td>41.477264</td>\n",
       "      <td>-72.512292</td>\n",
       "      <td>Ethanol</td>\n",
       "      <td>Y</td>\n",
       "    </tr>\n",
       "    <tr>\n",
       "      <th>10274</th>\n",
       "      <td>17-0290</td>\n",
       "      <td>04/09/2017 12:00:00 AM</td>\n",
       "      <td>DateReported</td>\n",
       "      <td>34.0</td>\n",
       "      <td>Male</td>\n",
       "      <td>White</td>\n",
       "      <td>EAST HAMPTON</td>\n",
       "      <td>NaN</td>\n",
       "      <td>CT</td>\n",
       "      <td>HARTFORD</td>\n",
       "      <td>...</td>\n",
       "      <td>Hartford</td>\n",
       "      <td>CT</td>\n",
       "      <td>41.765775</td>\n",
       "      <td>-72.673356</td>\n",
       "      <td>Hartford</td>\n",
       "      <td>CT</td>\n",
       "      <td>41.765775</td>\n",
       "      <td>-72.673356</td>\n",
       "      <td>Fentanyl</td>\n",
       "      <td>Y</td>\n",
       "    </tr>\n",
       "    <tr>\n",
       "      <th>71663</th>\n",
       "      <td>14-0308</td>\n",
       "      <td>07/29/2014 12:00:00 AM</td>\n",
       "      <td>DateofDeath</td>\n",
       "      <td>50.0</td>\n",
       "      <td>Male</td>\n",
       "      <td>White</td>\n",
       "      <td>BERLIN</td>\n",
       "      <td>NaN</td>\n",
       "      <td>NaN</td>\n",
       "      <td>NEW BRITAIN</td>\n",
       "      <td>...</td>\n",
       "      <td>New Britain</td>\n",
       "      <td>CT</td>\n",
       "      <td>41.667528</td>\n",
       "      <td>-72.783437</td>\n",
       "      <td>New Britain</td>\n",
       "      <td>CT</td>\n",
       "      <td>41.667528</td>\n",
       "      <td>-72.783437</td>\n",
       "      <td>Other</td>\n",
       "      <td>NaN</td>\n",
       "    </tr>\n",
       "    <tr>\n",
       "      <th>85890</th>\n",
       "      <td>18-0523</td>\n",
       "      <td>07/03/2018 12:00:00 AM</td>\n",
       "      <td>DateofDeath</td>\n",
       "      <td>22.0</td>\n",
       "      <td>Male</td>\n",
       "      <td>White</td>\n",
       "      <td>PLYMOUTH</td>\n",
       "      <td>LITCHFIELD</td>\n",
       "      <td>CT</td>\n",
       "      <td>BRISTOL</td>\n",
       "      <td>...</td>\n",
       "      <td>BRISTOL</td>\n",
       "      <td>CT</td>\n",
       "      <td>41.673037</td>\n",
       "      <td>-72.945791</td>\n",
       "      <td>BRISTOL</td>\n",
       "      <td>CT</td>\n",
       "      <td>41.673037</td>\n",
       "      <td>-72.945791</td>\n",
       "      <td>AnyOpioid</td>\n",
       "      <td>Y</td>\n",
       "    </tr>\n",
       "    <tr>\n",
       "      <th>14579</th>\n",
       "      <td>18-0686</td>\n",
       "      <td>09/03/2018 12:00:00 AM</td>\n",
       "      <td>DateofDeath</td>\n",
       "      <td>47.0</td>\n",
       "      <td>Female</td>\n",
       "      <td>White</td>\n",
       "      <td>MERIDEN</td>\n",
       "      <td>NEW HAVEN</td>\n",
       "      <td>CT</td>\n",
       "      <td>MERIDEN</td>\n",
       "      <td>...</td>\n",
       "      <td>MERIDEN</td>\n",
       "      <td>CT</td>\n",
       "      <td>41.537589</td>\n",
       "      <td>-72.8011</td>\n",
       "      <td>MERIDEN</td>\n",
       "      <td>CT</td>\n",
       "      <td>41.537589</td>\n",
       "      <td>-72.8011</td>\n",
       "      <td>Fentanyl</td>\n",
       "      <td>Y</td>\n",
       "    </tr>\n",
       "    <tr>\n",
       "      <th>80137</th>\n",
       "      <td>18-0267</td>\n",
       "      <td>04/07/2018 12:00:00 AM</td>\n",
       "      <td>DateReported</td>\n",
       "      <td>50.0</td>\n",
       "      <td>Male</td>\n",
       "      <td>White</td>\n",
       "      <td>BRISTOL</td>\n",
       "      <td>HARTFORD</td>\n",
       "      <td>CT</td>\n",
       "      <td>BRISTOL</td>\n",
       "      <td>...</td>\n",
       "      <td>Bristol</td>\n",
       "      <td>CT</td>\n",
       "      <td>41.673037</td>\n",
       "      <td>-72.945791</td>\n",
       "      <td>Bristol</td>\n",
       "      <td>CT</td>\n",
       "      <td>41.673037</td>\n",
       "      <td>-72.945791</td>\n",
       "      <td>OpiateNOS</td>\n",
       "      <td>NaN</td>\n",
       "    </tr>\n",
       "  </tbody>\n",
       "</table>\n",
       "<p>10 rows × 38 columns</p>\n",
       "</div>"
      ],
      "text/plain": [
       "            ID                    Date      DateType   Age     Sex   Race  \\\n",
       "62675  12-0323  12/04/2012 12:00:00 AM   DateofDeath  54.0    Male  White   \n",
       "58720  17-0264  03/30/2017 12:00:00 AM  DateReported  29.0    Male  White   \n",
       "71226  18-0319  04/28/2018 12:00:00 AM  DateReported  44.0    Male  White   \n",
       "9236   15-0171  04/07/2015 12:00:00 AM  DateReported  66.0  Female  White   \n",
       "34704  15-0430  08/19/2015 12:00:00 AM  DateReported  33.0    Male  White   \n",
       "10274  17-0290  04/09/2017 12:00:00 AM  DateReported  34.0    Male  White   \n",
       "71663  14-0308  07/29/2014 12:00:00 AM   DateofDeath  50.0    Male  White   \n",
       "85890  18-0523  07/03/2018 12:00:00 AM   DateofDeath  22.0    Male  White   \n",
       "14579  18-0686  09/03/2018 12:00:00 AM   DateofDeath  47.0  Female  White   \n",
       "80137  18-0267  04/07/2018 12:00:00 AM  DateReported  50.0    Male  White   \n",
       "\n",
       "      ResidenceCity ResidenceCounty ResidenceState    DeathCity  ...  \\\n",
       "62675       ENFIELD        HARTFORD            NaN      ENFIELD  ...   \n",
       "58720        ORANGE       NEW HAVEN             CT       ORANGE  ...   \n",
       "71226     NEW HAVEN       NEW HAVEN             CT    NEW HAVEN  ...   \n",
       "9236          DERBY       NEW HAVEN             CT        DERBY  ...   \n",
       "34704        HADDAM       MIDDLESEX             CT       HADDAM  ...   \n",
       "10274  EAST HAMPTON             NaN             CT     HARTFORD  ...   \n",
       "71663        BERLIN             NaN            NaN  NEW BRITAIN  ...   \n",
       "85890      PLYMOUTH      LITCHFIELD             CT      BRISTOL  ...   \n",
       "14579       MERIDEN       NEW HAVEN             CT      MERIDEN  ...   \n",
       "80137       BRISTOL        HARTFORD             CT      BRISTOL  ...   \n",
       "\n",
       "      ResidenceCityGeo_city ResidenceCityGeo_state ResidenceCityGeo_lat  \\\n",
       "62675               ENFIELD                     CT            41.976501   \n",
       "58720                Orange                     CT            41.282731   \n",
       "71226             New Haven                     CT            41.308252   \n",
       "9236                  Derby                     CT            41.322959   \n",
       "34704                HADDAM                     CT            41.477264   \n",
       "10274              Hartford                     CT            41.765775   \n",
       "71663           New Britain                     CT            41.667528   \n",
       "85890               BRISTOL                     CT            41.673037   \n",
       "14579               MERIDEN                     CT            41.537589   \n",
       "80137               Bristol                     CT            41.673037   \n",
       "\n",
       "      ResidenceCityGeo_long InjuryCityGeo_city InjuryCityGeo_state  \\\n",
       "62675            -72.591985            ENFIELD                  CT   \n",
       "58720            -73.028426             Orange                  CT   \n",
       "71226            -72.924161          New Haven                  CT   \n",
       "9236             -73.089594              Derby                  CT   \n",
       "34704            -72.512292             HADDAM                  CT   \n",
       "10274            -72.673356           Hartford                  CT   \n",
       "71663            -72.783437        New Britain                  CT   \n",
       "85890            -72.945791            BRISTOL                  CT   \n",
       "14579              -72.8011            MERIDEN                  CT   \n",
       "80137            -72.945791            Bristol                  CT   \n",
       "\n",
       "      InjuryCityGeo_lat InjuryCityGeo_long         TypeOfDrugs Detected  \n",
       "62675         41.976501         -72.591985  Morphine_NotHeroin      NaN  \n",
       "58720         41.282731         -73.028426              Tramad      NaN  \n",
       "71226         41.308252         -72.924161       Hydromorphone      NaN  \n",
       "9236          41.322959         -73.089594             Cocaine      NaN  \n",
       "34704         41.477264         -72.512292             Ethanol        Y  \n",
       "10274         41.765775         -72.673356            Fentanyl        Y  \n",
       "71663         41.667528         -72.783437               Other      NaN  \n",
       "85890         41.673037         -72.945791           AnyOpioid        Y  \n",
       "14579         41.537589           -72.8011            Fentanyl        Y  \n",
       "80137         41.673037         -72.945791           OpiateNOS      NaN  \n",
       "\n",
       "[10 rows x 38 columns]"
      ]
     },
     "execution_count": 22,
     "metadata": {},
     "output_type": "execute_result"
    }
   ],
   "source": [
    "df_long.sample(10)"
   ]
  },
  {
   "cell_type": "code",
   "execution_count": 23,
   "metadata": {
    "scrolled": true
   },
   "outputs": [
    {
     "data": {
      "text/plain": [
       "Index(['ID', 'Date', 'DateType', 'Age', 'Sex', 'Race', 'ResidenceCity',\n",
       "       'ResidenceCounty', 'ResidenceState', 'DeathCity', 'DeathCounty',\n",
       "       'Location', 'LocationifOther', 'DescriptionofInjury', 'InjuryPlace',\n",
       "       'InjuryCity', 'InjuryCounty', 'InjuryState', 'COD', 'OtherSignifican',\n",
       "       'MannerofDeath', 'DeathCityGeo', 'ResidenceCityGeo', 'InjuryCityGeo',\n",
       "       'DeathCityGeo_city', 'DeathCityGeo_state', 'DeathCityGeo_lat',\n",
       "       'DeathCityGeo_long', 'ResidenceCityGeo_city', 'ResidenceCityGeo_state',\n",
       "       'ResidenceCityGeo_lat', 'ResidenceCityGeo_long', 'InjuryCityGeo_city',\n",
       "       'InjuryCityGeo_state', 'InjuryCityGeo_lat', 'InjuryCityGeo_long',\n",
       "       'TypeOfDrugs', 'Detected'],\n",
       "      dtype='object')"
      ]
     },
     "execution_count": 23,
     "metadata": {},
     "output_type": "execute_result"
    }
   ],
   "source": [
    "# To see the names of the columns\n",
    "df_long.columns"
   ]
  },
  {
   "cell_type": "code",
   "execution_count": 24,
   "metadata": {},
   "outputs": [],
   "source": [
    "df_long = df_long.dropna(subset=['Detected'])"
   ]
  },
  {
   "cell_type": "code",
   "execution_count": 25,
   "metadata": {},
   "outputs": [],
   "source": [
    "#df_long['Detected']"
   ]
  },
  {
   "cell_type": "code",
   "execution_count": 26,
   "metadata": {},
   "outputs": [
    {
     "data": {
      "text/plain": [
       "(13913, 38)"
      ]
     },
     "execution_count": 26,
     "metadata": {},
     "output_type": "execute_result"
    }
   ],
   "source": [
    "# Find the number of rows after \"dropna\"\n",
    "df_long.shape"
   ]
  },
  {
   "cell_type": "code",
   "execution_count": 27,
   "metadata": {},
   "outputs": [],
   "source": [
    "df_long['ID']"
   ]
  },
  {
   "cell_type": "code",
   "execution_count": 28,
   "metadata": {},
   "outputs": [
    {
     "name": "stdout",
     "output_type": "stream",
     "text": [
      "5087\n"
     ]
    }
   ],
   "source": [
    "## To make sure I didn't lost any ID numbers when I dropped the nAn values in the 'Delected' column. I will remove all \n",
    "## the duplicate ID in the melt dataframe (df_long).\n",
    "\n",
    "def Remove_duplicate(): \n",
    "    final_ID_list = [] \n",
    "    for num in df_long['ID']: \n",
    "        if num not in final_ID_list: \n",
    "            final_ID_list.append(num) \n",
    "    return final_ID_list \n",
    "print(len(Remove_duplicate()))\n",
    "\n",
    "## I lost 18 IDs (5105 - 5087). I will assume that is because the persons with those ID were not tested positive to any drugs.\n",
    "## As in the dataframe the age vari from 14 years to over 90 years. (it's possible that the young victims were just collateral\n",
    "# effect, as they can't even drive)"
   ]
  },
  {
   "cell_type": "markdown",
   "metadata": {},
   "source": [
    "### Create a subset dataframe to use for visualization."
   ]
  },
  {
   "cell_type": "code",
   "execution_count": 29,
   "metadata": {},
   "outputs": [],
   "source": [
    "# https://stackoverflow.com/questions/17995024/how-to-assign-a-name-to-the-a-size-column\n",
    "\n",
    "## For the groups to be columns again add .reset_index()\n",
    "df1 = df_long.groupby(['Age','Sex','TypeOfDrugs', 'Detected']).size().to_frame('Num_Of_Victims').reset_index()\n"
   ]
  },
  {
   "cell_type": "code",
   "execution_count": 30,
   "metadata": {},
   "outputs": [
    {
     "data": {
      "text/html": [
       "<div>\n",
       "<style scoped>\n",
       "    .dataframe tbody tr th:only-of-type {\n",
       "        vertical-align: middle;\n",
       "    }\n",
       "\n",
       "    .dataframe tbody tr th {\n",
       "        vertical-align: top;\n",
       "    }\n",
       "\n",
       "    .dataframe thead th {\n",
       "        text-align: right;\n",
       "    }\n",
       "</style>\n",
       "<table border=\"1\" class=\"dataframe\">\n",
       "  <thead>\n",
       "    <tr style=\"text-align: right;\">\n",
       "      <th></th>\n",
       "      <th>Age</th>\n",
       "      <th>Sex</th>\n",
       "      <th>TypeOfDrugs</th>\n",
       "      <th>Detected</th>\n",
       "      <th>Num_Of_Victims</th>\n",
       "    </tr>\n",
       "  </thead>\n",
       "  <tbody>\n",
       "    <tr>\n",
       "      <th>1661</th>\n",
       "      <td>68.0</td>\n",
       "      <td>Male</td>\n",
       "      <td>Other</td>\n",
       "      <td>MORPHINE</td>\n",
       "      <td>1</td>\n",
       "    </tr>\n",
       "    <tr>\n",
       "      <th>185</th>\n",
       "      <td>24.0</td>\n",
       "      <td>Male</td>\n",
       "      <td>Tramad</td>\n",
       "      <td>Y</td>\n",
       "      <td>1</td>\n",
       "    </tr>\n",
       "    <tr>\n",
       "      <th>609</th>\n",
       "      <td>37.0</td>\n",
       "      <td>Female</td>\n",
       "      <td>Other</td>\n",
       "      <td>BUPREN</td>\n",
       "      <td>1</td>\n",
       "    </tr>\n",
       "    <tr>\n",
       "      <th>323</th>\n",
       "      <td>29.0</td>\n",
       "      <td>Female</td>\n",
       "      <td>Amphet</td>\n",
       "      <td>Y</td>\n",
       "      <td>1</td>\n",
       "    </tr>\n",
       "    <tr>\n",
       "      <th>1295</th>\n",
       "      <td>55.0</td>\n",
       "      <td>Male</td>\n",
       "      <td>Tramad</td>\n",
       "      <td>Y</td>\n",
       "      <td>1</td>\n",
       "    </tr>\n",
       "    <tr>\n",
       "      <th>122</th>\n",
       "      <td>22.0</td>\n",
       "      <td>Male</td>\n",
       "      <td>Other</td>\n",
       "      <td>U-47700 synthetic opioid</td>\n",
       "      <td>1</td>\n",
       "    </tr>\n",
       "    <tr>\n",
       "      <th>363</th>\n",
       "      <td>30.0</td>\n",
       "      <td>Female</td>\n",
       "      <td>Fentanyl</td>\n",
       "      <td>Y</td>\n",
       "      <td>14</td>\n",
       "    </tr>\n",
       "    <tr>\n",
       "      <th>603</th>\n",
       "      <td>37.0</td>\n",
       "      <td>Female</td>\n",
       "      <td>Ethanol</td>\n",
       "      <td>Y</td>\n",
       "      <td>8</td>\n",
       "    </tr>\n",
       "    <tr>\n",
       "      <th>1632</th>\n",
       "      <td>66.0</td>\n",
       "      <td>Unknown</td>\n",
       "      <td>Oxycodone</td>\n",
       "      <td>Y</td>\n",
       "      <td>1</td>\n",
       "    </tr>\n",
       "    <tr>\n",
       "      <th>1065</th>\n",
       "      <td>49.0</td>\n",
       "      <td>Male</td>\n",
       "      <td>Fentanyl</td>\n",
       "      <td>Y</td>\n",
       "      <td>40</td>\n",
       "    </tr>\n",
       "  </tbody>\n",
       "</table>\n",
       "</div>"
      ],
      "text/plain": [
       "       Age      Sex TypeOfDrugs                  Detected  Num_Of_Victims\n",
       "1661  68.0     Male       Other                  MORPHINE               1\n",
       "185   24.0     Male      Tramad                         Y               1\n",
       "609   37.0   Female       Other                    BUPREN               1\n",
       "323   29.0   Female      Amphet                         Y               1\n",
       "1295  55.0     Male      Tramad                         Y               1\n",
       "122   22.0     Male       Other  U-47700 synthetic opioid               1\n",
       "363   30.0   Female    Fentanyl                         Y              14\n",
       "603   37.0   Female     Ethanol                         Y               8\n",
       "1632  66.0  Unknown   Oxycodone                         Y               1\n",
       "1065  49.0     Male    Fentanyl                         Y              40"
      ]
     },
     "execution_count": 30,
     "metadata": {},
     "output_type": "execute_result"
    }
   ],
   "source": [
    "#print(df1)\n",
    "\n",
    "df1.sample(10)"
   ]
  },
  {
   "cell_type": "markdown",
   "metadata": {},
   "source": [
    "## Visualizations"
   ]
  },
  {
   "cell_type": "markdown",
   "metadata": {},
   "source": [
    "### Visualization by type of drugs and number of victims for each drug."
   ]
  },
  {
   "cell_type": "code",
   "execution_count": 31,
   "metadata": {
    "scrolled": true
   },
   "outputs": [
    {
     "data": {
      "text/plain": [
       "<matplotlib.axes._subplots.AxesSubplot at 0x19e6d6d07f0>"
      ]
     },
     "execution_count": 31,
     "metadata": {},
     "output_type": "execute_result"
    },
    {
     "data": {
      "image/png": "[encoded data removed]",
      "text/plain": [
       "<Figure size 1440x504 with 1 Axes>"
      ]
     },
     "metadata": {
      "needs_background": "light"
     },
     "output_type": "display_data"
    }
   ],
   "source": [
    "# Plot in base of the type of drugs and the count of people who were tested positive with each of the drugs.\n",
    "\n",
    "#https://towardsdatascience.com/data-visualization-using-seaborn-fc24db95a850\n",
    "\n",
    "plt.figure(figsize=(20,7))\n",
    "sns.scatterplot(x=\"TypeOfDrugs\", y=\"Num_Of_Victims\", hue=\"Sex\", data=df1)"
   ]
  },
  {
   "cell_type": "markdown",
   "metadata": {},
   "source": [
    "\n",
    "### Visualization by type of drugs and age of the victims."
   ]
  },
  {
   "cell_type": "code",
   "execution_count": 32,
   "metadata": {},
   "outputs": [
    {
     "data": {
      "text/plain": [
       "<matplotlib.axes._subplots.AxesSubplot at 0x19e6d3ac978>"
      ]
     },
     "execution_count": 32,
     "metadata": {},
     "output_type": "execute_result"
    },
    {
     "data": {
      "image/png": "[encoded data removed]",
      "text/plain": [
       "<Figure size 1440x504 with 1 Axes>"
      ]
     },
     "metadata": {
      "needs_background": "light"
     },
     "output_type": "display_data"
    }
   ],
   "source": [
    "# Plot base on the type of drugs and the age of people test positive with each of the drugs.\n",
    "\n",
    "plt.figure(figsize=(20,7))\n",
    "\n",
    "sns.scatterplot(x=\"TypeOfDrugs\", y=\"Age\", hue=\"Sex\",data=df1)"
   ]
  },
  {
   "cell_type": "code",
   "execution_count": 33,
   "metadata": {},
   "outputs": [],
   "source": [
    "#df1 = df_long.groupby(['Age','Sex','Race','TypeOfDrugs', 'Detected']).size().to_frame('Count').reset_index()"
   ]
  },
  {
   "cell_type": "code",
   "execution_count": 34,
   "metadata": {},
   "outputs": [],
   "source": [
    "#df1.sample(5)"
   ]
  },
  {
   "cell_type": "code",
   "execution_count": 35,
   "metadata": {},
   "outputs": [],
   "source": [
    "#plt.figure(figsize=(20,7))\n",
    "\n",
    "#sns.scatterplot(x=\"TypeOfDrugs\", y=\"Count\", hue= \"Race\", data=df1)"
   ]
  },
  {
   "cell_type": "markdown",
   "metadata": {},
   "source": [
    "### Written story of patterns observed.\n",
    "From the visualizations, we can observe that women are taking less heavy drugs.\n",
    "\n",
    "And we have fewer females involve in drugged driving accidents than males.\n"
   ]
  },
  {
   "cell_type": "markdown",
   "metadata": {},
   "source": [
    "## Lessons learned"
   ]
  },
  {
   "cell_type": "markdown",
   "metadata": {},
   "source": [
    "I learned that among people who died in a car accident in the past years, more than 43% were tested positive for one or more drugs.\n",
    "Driving under the influence of drugs can cost us our life. \n",
    "So if someone is drugged, he is better not to drive but ask for a ride."
   ]
  },
  {
   "cell_type": "markdown",
   "metadata": {},
   "source": [
    "## References:\n",
    "-https://stackoverflow.com/questions/17995024/how-to-assign-a-name-to-the-a-size-column.\n",
    "\n",
    "-https://stackoverflow.com/a/53666187/1164295\n",
    "\n",
    "-https://stackoverflow.com/a/4998688/1164295\n",
    "- Class's notes   "
   ]
  }
 ],
 "metadata": {
  "kernelspec": {
   "display_name": "Python 3",
   "language": "python",
   "name": "python3"
  },
  "language_info": {
   "codemirror_mode": {
    "name": "ipython",
    "version": 3
   },
   "file_extension": ".py",
   "mimetype": "text/x-python",
   "name": "python",
   "nbconvert_exporter": "python",
   "pygments_lexer": "ipython3",
   "version": "3.7.3"
  }
 },
 "nbformat": 4,
 "nbformat_minor": 2
}
